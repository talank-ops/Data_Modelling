{
 "cells": [
  {
   "cell_type": "code",
   "execution_count": 3,
   "id": "6bc99dd1-0825-445e-b021-7b8b081980a5",
   "metadata": {},
   "outputs": [
    {
     "name": "stdout",
     "output_type": "stream",
     "text": [
      "   Page Views  Session Duration  Bounce Rate Traffic Source  Time on Page  \\\n",
      "0           5         11.051381     0.230652        Organic      3.890460   \n",
      "1           4          3.429316     0.391001         Social      8.478174   \n",
      "2           4          1.621052     0.397986        Organic      9.636170   \n",
      "3           5          3.629279     0.180458        Organic      2.071925   \n",
      "4           5          4.235843     0.291541           Paid      1.960654   \n",
      "\n",
      "   Previous Visits  Conversion Rate  \n",
      "0                3              1.0  \n",
      "1                0              1.0  \n",
      "2                2              1.0  \n",
      "3                3              1.0  \n",
      "4                5              1.0  \n",
      "<class 'pandas.core.frame.DataFrame'>\n",
      "RangeIndex: 2000 entries, 0 to 1999\n",
      "Data columns (total 7 columns):\n",
      " #   Column            Non-Null Count  Dtype  \n",
      "---  ------            --------------  -----  \n",
      " 0   Page Views        2000 non-null   int64  \n",
      " 1   Session Duration  2000 non-null   float64\n",
      " 2   Bounce Rate       2000 non-null   float64\n",
      " 3   Traffic Source    2000 non-null   object \n",
      " 4   Time on Page      2000 non-null   float64\n",
      " 5   Previous Visits   2000 non-null   int64  \n",
      " 6   Conversion Rate   2000 non-null   float64\n",
      "dtypes: float64(4), int64(2), object(1)\n",
      "memory usage: 109.5+ KB\n",
      "None\n"
     ]
    }
   ],
   "source": [
    "import pandas as pd\n",
    "import numpy as np\n",
    "import scipy.stats as stats\n",
    "import matplotlib.pyplot as plt\n",
    "\n",
    "df = pd.read_csv(\"website_data.csv\")\n",
    "print(df.head())\n",
    "print(df.info())"
   ]
  },
  {
   "cell_type": "code",
   "execution_count": 4,
   "id": "4635bdb7-f3e2-4a01-82d9-da45ec1ff13f",
   "metadata": {},
   "outputs": [
    {
     "name": "stdout",
     "output_type": "stream",
     "text": [
      "Index(['Page Views', 'Session Duration', 'Bounce Rate', 'Traffic Source',\n",
      "       'Time on Page', 'Previous Visits', 'Conversion Rate'],\n",
      "      dtype='object')\n",
      "        Page Views  Session Duration  Bounce Rate  Time on Page  \\\n",
      "count  2000.000000       2000.000000  2000.000000   2000.000000   \n",
      "mean      4.950500          3.022045     0.284767      4.027439   \n",
      "std       2.183903          3.104518     0.159781      2.887422   \n",
      "min       0.000000          0.003613     0.007868      0.068515   \n",
      "25%       3.000000          0.815828     0.161986      1.935037   \n",
      "50%       5.000000          1.993983     0.266375      3.315316   \n",
      "75%       6.000000          4.197569     0.388551      5.414627   \n",
      "max      14.000000         20.290516     0.844939     24.796182   \n",
      "\n",
      "       Previous Visits  Conversion Rate  \n",
      "count      2000.000000      2000.000000  \n",
      "mean          1.978500         0.982065  \n",
      "std           1.432852         0.065680  \n",
      "min           0.000000         0.343665  \n",
      "25%           1.000000         1.000000  \n",
      "50%           2.000000         1.000000  \n",
      "75%           3.000000         1.000000  \n",
      "max           9.000000         1.000000  \n"
     ]
    }
   ],
   "source": [
    "print(df.columns)\n",
    "print(df.describe())\n"
   ]
  },
  {
   "cell_type": "code",
   "execution_count": 5,
   "id": "79d110b0-9428-4c4c-9d45-6e8b137e5fd3",
   "metadata": {},
   "outputs": [
    {
     "name": "stdout",
     "output_type": "stream",
     "text": [
      "Task 1 - P(X=10): 0.1398190051743156\n"
     ]
    }
   ],
   "source": [
    "n1, p1, k1 = 50, 0.2, 10\n",
    "prob_task1 = stats.binom.pmf(k1, n1, p1)\n",
    "print(\"Task 1 - P(X=10):\", prob_task1)"
   ]
  },
  {
   "cell_type": "code",
   "execution_count": 6,
   "id": "99bcb3f2-86f3-4b9f-9d13-040645c35cf7",
   "metadata": {},
   "outputs": [
    {
     "name": "stdout",
     "output_type": "stream",
     "text": [
      "Task 2 - P(X>=25): 2.0948548555832502e-06\n"
     ]
    }
   ],
   "source": [
    "n2, p2 = 50, 0.2\n",
    "prob_task2 = 1 - stats.binom.cdf(24, n2, p2)\n",
    "print(\"Task 2 - P(X>=25):\", prob_task2)"
   ]
  },
  {
   "cell_type": "code",
   "execution_count": 9,
   "id": "02389efb-5580-4c20-a495-a0bc619e9ef8",
   "metadata": {},
   "outputs": [
    {
     "name": "stdout",
     "output_type": "stream",
     "text": [
      "Task 3: Most engaged sessions count: 200\n",
      "They represent 10.00% of all sessions.\n"
     ]
    }
   ],
   "source": [
    "rted = df.sort_values(by='Bounce Rate', ascending=True)\n",
    "cutoff_index = int(np.floor(pct * len(df)))\n",
    "most_engaged =pct = 0.10\n",
    "df_so df_sorted.iloc[:cutoff_index]\n",
    "others = df_sorted.iloc[cutoff_index:]\n",
    "\n",
    "print(\"Task 3: Most engaged sessions count:\", len(most_engaged))\n",
    "print(\"They represent %.2f%% of all sessions.\" % (100 * len(most_engaged) / len(df)))"
   ]
  },
  {
   "cell_type": "code",
   "execution_count": 10,
   "id": "52948d06-c7e8-47c1-8857-ebfa876b9070",
   "metadata": {},
   "outputs": [
    {
     "name": "stdout",
     "output_type": "stream",
     "text": [
      "Conversion rate (top 10%): 0.9815095872038349\n",
      "Conversion rate (remaining 90%): 0.982127035439857\n"
     ]
    }
   ],
   "source": [
    "conv_rate_engaged = most_engaged['Conversion Rate'].mean()\n",
    "conv_rate_others = others['Conversion Rate'].mean()\n",
    "print(\"Conversion rate (top 10%):\", conv_rate_engaged)\n",
    "print(\"Conversion rate (remaining 90%):\", conv_rate_others)"
   ]
  },
  {
   "cell_type": "code",
   "execution_count": 11,
   "id": "9d49b097-9fcb-44dd-a384-21241a1eb787",
   "metadata": {},
   "outputs": [
    {
     "name": "stdout",
     "output_type": "stream",
     "text": [
      "Task 5 - Normal Approx P(X>50): 0.031715712644305616\n"
     ]
    }
   ],
   "source": [
    "n5, p5 = 200, 0.2\n",
    "mu5, sigma5 = n5 * p5, np.sqrt(n5 * p5 * (1-p5))\n",
    "# Continuity correction: P(X>50) ≈ P(Y > 50.5)\n",
    "prob_task5 = 1 - stats.norm.cdf(50.5, mu5, sigma5)\n",
    "print(\"Task 5 - Normal Approx P(X>50):\", prob_task5)"
   ]
  },
  {
   "cell_type": "code",
   "execution_count": 12,
   "id": "cdf53364-707d-4960-8fdd-5941faa6efbd",
   "metadata": {},
   "outputs": [
    {
     "name": "stdout",
     "output_type": "stream",
     "text": [
      "Normal Task 1 - P(X>8): 0.06680720126885809\n"
     ]
    }
   ],
   "source": [
    "mu1, sigma1, x1 = 5, 2, 8\n",
    "prob_norm1 = 1 - stats.norm.cdf(x1, mu1, sigma1)\n",
    "print(\"Normal Task 1 - P(X>8):\", prob_norm1)"
   ]
  },
  {
   "cell_type": "code",
   "execution_count": 13,
   "id": "bc396a25-e466-425f-bf5e-5a9b6c0675ef",
   "metadata": {},
   "outputs": [
    {
     "name": "stdout",
     "output_type": "stream",
     "text": [
      "Normal Task 2 - P(2<X<4.5): 0.6920218453695015\n"
     ]
    }
   ],
   "source": [
    "mu2, sigma2, low2, high2 = 3, 1.2, 2, 4.5\n",
    "prob_norm2 = stats.norm.cdf(high2, mu2, sigma2) - stats.norm.cdf(low2, mu2, sigma2)\n",
    "print(\"Normal Task 2 - P(2<X<4.5):\", prob_norm2)"
   ]
  },
  {
   "cell_type": "code",
   "execution_count": 14,
   "id": "b3d223a5-c7cc-4b2e-a396-2de1ae7b8260",
   "metadata": {},
   "outputs": [
    {
     "name": "stdout",
     "output_type": "stream",
     "text": [
      "Normal Task 3 - P(X̄>5): 0.00013036481642769715\n"
     ]
    }
   ],
   "source": [
    "mu3, sigma3, n3, xbar3 = 4, 1.5, 30, 5\n",
    "se3 = sigma3 / np.sqrt(n3)\n",
    "prob_norm3 = 1 - stats.norm.cdf(xbar3, mu3, se3)\n",
    "print(\"Normal Task 3 - P(X̄>5):\", prob_norm3)"
   ]
  },
  {
   "cell_type": "code",
   "execution_count": 15,
   "id": "1d2d6df0-6023-4a02-9e51-2b2528591615",
   "metadata": {},
   "outputs": [
    {
     "name": "stdout",
     "output_type": "stream",
     "text": [
      "Normal Task 4 - P(Org > Paid): 0.5737084267593762\n"
     ]
    }
   ],
   "source": [
    "mu_org, sigma_org = 5.2, 1.8\n",
    "mu_paid, sigma_paid = 4.7, 2\n",
    "\n",
    "mu_diff = mu_org - mu_paid\n",
    "sigma_diff = np.sqrt(sigma_org**2 + sigma_paid**2)\n",
    "prob_norm4 = 1 - stats.norm.cdf(0, mu_diff, sigma_diff)\n",
    "print(\"Normal Task 4 - P(Org > Paid):\", prob_norm4)"
   ]
  },
  {
   "cell_type": "code",
   "execution_count": 16,
   "id": "023c1b6e-c085-425f-a8bf-6ba441fa4ce8",
   "metadata": {},
   "outputs": [
    {
     "name": "stdout",
     "output_type": "stream",
     "text": [
      "Normal Task 5 - P(X≥5): 0.09121121972586788\n"
     ]
    }
   ],
   "source": [
    "mu5, sigma5, x5 = 3, 1.5, 5\n",
    "prob_norm5 = 1 - stats.norm.cdf(x5, mu5, sigma5)\n",
    "print(\"Normal Task 5 - P(X≥5):\", prob_norm5)"
   ]
  },
  {
   "cell_type": "code",
   "execution_count": 17,
   "id": "a656cf7b-7980-4298-b938-b46a14c1b7b0",
   "metadata": {},
   "outputs": [
    {
     "name": "stdout",
     "output_type": "stream",
     "text": [
      "Normal Task 6 - P(X̄<4.5): 0.056923149003329024\n"
     ]
    }
   ],
   "source": [
    "mu6, sigma6, n6, xbar6 = 5, 2, 40, 4.5\n",
    "se6 = sigma6 / np.sqrt(n6)\n",
    "prob_norm6 = stats.norm.cdf(xbar6, mu6, se6)\n",
    "print(\"Normal Task 6 - P(X̄<4.5):\", prob_norm6)"
   ]
  },
  {
   "cell_type": "code",
   "execution_count": null,
   "id": "740d7d4f-389c-4fde-9e5b-ceb95c070fb4",
   "metadata": {},
   "outputs": [],
   "source": []
  },
  {
   "cell_type": "code",
   "execution_count": null,
   "id": "c6a6358c-aad6-435c-828d-716f01f11df1",
   "metadata": {},
   "outputs": [],
   "source": []
  },
  {
   "cell_type": "code",
   "execution_count": null,
   "id": "11325583-f601-459d-8995-fdbb4e76d635",
   "metadata": {},
   "outputs": [],
   "source": []
  }
 ],
 "metadata": {
  "kernelspec": {
   "display_name": "Python (jupyterenv)",
   "language": "python",
   "name": "jupyterenv"
  },
  "language_info": {
   "codemirror_mode": {
    "name": "ipython",
    "version": 3
   },
   "file_extension": ".py",
   "mimetype": "text/x-python",
   "name": "python",
   "nbconvert_exporter": "python",
   "pygments_lexer": "ipython3",
   "version": "3.13.7"
  }
 },
 "nbformat": 4,
 "nbformat_minor": 5
}
